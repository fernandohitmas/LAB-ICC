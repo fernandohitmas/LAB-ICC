{
  "nbformat": 4,
  "nbformat_minor": 0,
  "metadata": {
    "colab": {
      "name": "Estrutura de Repetição - Resultado Textual",
      "provenance": []
    },
    "kernelspec": {
      "name": "python3",
      "display_name": "Python 3"
    },
    "language_info": {
      "name": "python"
    }
  },
  "cells": [
    {
      "cell_type": "code",
      "metadata": {
        "id": "Nn6rXN57RKQZ",
        "colab": {
          "base_uri": "https://localhost:8080/"
        },
        "outputId": "01185787-ab64-4cc5-b238-ae252429aa4f"
      },
      "source": [
        "# Desenvolva um algoritmo que receba um numero inteiro n a ser elevado\n",
        "# ao quadrado e escreva os dígitos do resultado por extenso\n",
        "\n",
        "NUM_EXTENSO = {\n",
        "    \"1\": \"Um\",\n",
        "    \"2\": \"Dois\",\n",
        "    \"3\": \"Três\",\n",
        "    \"4\": \"Quatro\",\n",
        "    \"5\": \"Cinco\",\n",
        "    \"6\": \"Seis\",\n",
        "    \"7\": \"Sete\",\n",
        "    \"8\": \"Oito\",\n",
        "    \"9\": \"Nove\"\n",
        "}\n",
        "\n",
        "def quadrado_por_extenso(num):\n",
        "\n",
        "  num = num**2\n",
        "\n",
        "  num_por_extenso = \"\"\n",
        "  \n",
        "  for n in str(num):\n",
        "\n",
        "    num_por_extenso = num_por_extenso + \" \" + NUM_EXTENSO[n]\n",
        "\n",
        "  return num_por_extenso.strip()\n",
        "\n",
        "def main():\n",
        "\n",
        "  numero = int(input())\n",
        "\n",
        "  numero_por_extenso = quadrado_por_extenso(numero)\n",
        "\n",
        "  print(numero_por_extenso)\n",
        "\n",
        "if __name__ == \"__main__\":\n",
        "\n",
        "  main()"
      ],
      "execution_count": null,
      "outputs": [
        {
          "output_type": "stream",
          "name": "stdout",
          "text": [
            "9\n",
            "Oito Um\n"
          ]
        }
      ]
    }
  ]
}