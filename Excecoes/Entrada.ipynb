{
 "cells": [
  {
   "cell_type": "code",
   "execution_count": 2,
   "id": "3e2d4cf7",
   "metadata": {
    "scrolled": true
   },
   "outputs": [
    {
     "name": "stdout",
     "output_type": "stream",
     "text": [
      "a\n",
      "Entrada Inválida.\n"
     ]
    }
   ],
   "source": [
    "# Observe o programa abaixo:\n",
    "\n",
    "# a = int(input())\n",
    "\n",
    "# print(\"O número digitado foi:\", a)\n",
    "\n",
    "# Reescreva esse código de uma forma com que ele seja capaz de tratar a inserção de um caractere por parte do usuário.\n",
    "\n",
    "def recebe_numero(numero):\n",
    "    \n",
    "  try:\n",
    "\n",
    "    int(numero)\n",
    "\n",
    "    return True\n",
    "\n",
    "  except:\n",
    "\n",
    "    return False\n",
    "\n",
    "\n",
    "def main():\n",
    "  \n",
    "  n = input()\n",
    "\n",
    "  entrada_valida = recebe_numero(n)\n",
    "\n",
    "  print(f\"O número digitado foi: {int(n)}\") if entrada_valida else print(\"Entrada Inválida.\")\n",
    "\n",
    "if __name__==\"__main__\":\n",
    "  main()"
   ]
  }
 ],
 "metadata": {
  "kernelspec": {
   "display_name": "Python 3 (ipykernel)",
   "language": "python",
   "name": "python3"
  },
  "language_info": {
   "codemirror_mode": {
    "name": "ipython",
    "version": 3
   },
   "file_extension": ".py",
   "mimetype": "text/x-python",
   "name": "python",
   "nbconvert_exporter": "python",
   "pygments_lexer": "ipython3",
   "version": "3.8.10"
  }
 },
 "nbformat": 4,
 "nbformat_minor": 5
}
