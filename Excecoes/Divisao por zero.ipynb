{
 "cells": [
  {
   "cell_type": "code",
   "execution_count": 1,
   "id": "7af9d3ea",
   "metadata": {},
   "outputs": [
    {
     "name": "stdout",
     "output_type": "stream",
     "text": [
      "500 60\n",
      "8\n"
     ]
    }
   ],
   "source": [
    "# Faça um programa que calcule a divisão de dois números m e n e trate os casos em que n = 0.\n",
    "\n",
    "def verifica_denominador(denominador):\n",
    "\n",
    "  return denominador == 0\n",
    "\n",
    "def main():\n",
    "\n",
    "  numerador, denominador = list(map(int, input().strip().split()))\n",
    "\n",
    "  eh_zero = verifica_denominador(denominador)\n",
    "\n",
    "  print(\"Erro: divisão por 0.\") if eh_zero else print(f'{numerador/denominador:.0f}')\n",
    "\n",
    "if __name__ == \"__main__\":\n",
    "  main()"
   ]
  }
 ],
 "metadata": {
  "kernelspec": {
   "display_name": "Python 3 (ipykernel)",
   "language": "python",
   "name": "python3"
  },
  "language_info": {
   "codemirror_mode": {
    "name": "ipython",
    "version": 3
   },
   "file_extension": ".py",
   "mimetype": "text/x-python",
   "name": "python",
   "nbconvert_exporter": "python",
   "pygments_lexer": "ipython3",
   "version": "3.8.10"
  }
 },
 "nbformat": 4,
 "nbformat_minor": 5
}
