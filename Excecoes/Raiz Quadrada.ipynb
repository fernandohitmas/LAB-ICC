{
 "cells": [
  {
   "cell_type": "code",
   "execution_count": null,
   "id": "28ca9ad3",
   "metadata": {},
   "outputs": [],
   "source": [
    "# Faça um programa que calcule a raiz quadrada de um número n e trate os casos em que n < 0.\n",
    "\n",
    "import numpy as np\n",
    "\n",
    "def eh_positivo(numero):\n",
    "\n",
    "  return numero > 0\n",
    "\n",
    "def main():\n",
    "\n",
    "  n = int(input())\n",
    "\n",
    "  eh_pos = eh_positivo(n)\n",
    "\n",
    "  print(f\"{np.sqrt(n):.0f}\") if eh_pos else print(\"Erro no cálculo da raiz quadrada pois número é negativo.\")\n",
    "\n",
    "if __name__ == \"__main__\":\n",
    "  main()"
   ]
  }
 ],
 "metadata": {
  "kernelspec": {
   "display_name": "Python 3 (ipykernel)",
   "language": "python",
   "name": "python3"
  },
  "language_info": {
   "codemirror_mode": {
    "name": "ipython",
    "version": 3
   },
   "file_extension": ".py",
   "mimetype": "text/x-python",
   "name": "python",
   "nbconvert_exporter": "python",
   "pygments_lexer": "ipython3",
   "version": "3.8.10"
  }
 },
 "nbformat": 4,
 "nbformat_minor": 5
}
