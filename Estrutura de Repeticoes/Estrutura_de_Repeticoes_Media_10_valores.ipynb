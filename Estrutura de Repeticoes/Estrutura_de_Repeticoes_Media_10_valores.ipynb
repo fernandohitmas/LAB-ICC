{
  "nbformat": 4,
  "nbformat_minor": 0,
  "metadata": {
    "colab": {
      "name": "Estrutura de Repeticoes - Media 10 valores",
      "provenance": []
    },
    "kernelspec": {
      "name": "python3",
      "display_name": "Python 3"
    },
    "language_info": {
      "name": "python"
    }
  },
  "cells": [
    {
      "cell_type": "code",
      "metadata": {
        "id": "mZxzD9WUsh_V",
        "colab": {
          "base_uri": "https://localhost:8080/"
        },
        "outputId": "c34de40e-be64-422b-ba7f-8cac5c1e83b5"
      },
      "source": [
        "# Faça um programa que calcule a média aritmética de 10 valores\n",
        "\n",
        "# Entrada: 10 números\n",
        "\n",
        "# Saída: A média aritmética entre os 10 números com duas casas decimais.\n",
        "\n",
        "# Dica: Para imprimir um valor com duas casas decimais, utilize: print(\"%.2f\" % valor)\n",
        "\n",
        "# Dica2: Para ler a lista de valores utilize: lista = list(map(int,input().split()))\n",
        "\n",
        "def calcula_media(lista):\n",
        "  \n",
        "  soma = 0\n",
        "  n_elementos = 0\n",
        "\n",
        "  for num in lista:\n",
        "\n",
        "    soma = soma + num\n",
        "    n_elementos = n_elementos + 1\n",
        "\n",
        "  print(f\"{soma/n_elementos:.2f}\")\n",
        "\n",
        "lista_num = list(map(int,input().split()))\n",
        "\n",
        "calcula_media(lista_num)"
      ],
      "execution_count": null,
      "outputs": [
        {
          "output_type": "stream",
          "name": "stdout",
          "text": [
            "2 2 2 2 2 2 2 2 2 10\n",
            "2.80\n"
          ]
        }
      ]
    }
  ]
}