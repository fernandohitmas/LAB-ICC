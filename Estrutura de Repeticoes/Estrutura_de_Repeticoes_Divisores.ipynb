{
  "nbformat": 4,
  "nbformat_minor": 0,
  "metadata": {
    "colab": {
      "name": "Estrutura de Repeticoes - Divisores",
      "provenance": []
    },
    "kernelspec": {
      "name": "python3",
      "display_name": "Python 3"
    },
    "language_info": {
      "name": "python"
    }
  },
  "cells": [
    {
      "cell_type": "code",
      "metadata": {
        "id": "mtASR6IcsgFZ",
        "colab": {
          "base_uri": "https://localhost:8080/"
        },
        "outputId": "08b88a72-c6c6-4f65-e693-9a89168ed2ab"
      },
      "source": [
        "# Desenvolva um algoritmo que leia um número N inteiro positivo e escreva os divisores desse valor.\n",
        "\n",
        "# Entrada: Um inteiro N, sendo N >= 0\n",
        "\n",
        "# Saída: Um linha para cada divisor do número N em ordem decrescente.\n",
        "\n",
        "def calcula_divisores(numero):\n",
        "  \n",
        "  divisores = [1,]\n",
        "\n",
        "  print(numero)\n",
        "\n",
        "  for divisor in range(int((numero)/2+1),0,-1):\n",
        "\n",
        "    if numero%divisor == 0:\n",
        "\n",
        "      print(divisor)\n",
        "  \n",
        "num = int(input())\n",
        "\n",
        "calcula_divisores(num)"
      ],
      "execution_count": null,
      "outputs": [
        {
          "output_type": "stream",
          "name": "stdout",
          "text": [
            "1024\n",
            "1024\n",
            "512\n",
            "256\n",
            "128\n",
            "64\n",
            "32\n",
            "16\n",
            "8\n",
            "4\n",
            "2\n",
            "1\n"
          ]
        }
      ]
    }
  ]
}